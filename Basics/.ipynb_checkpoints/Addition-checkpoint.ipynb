{
 "cells": [
  {
   "cell_type": "code",
   "execution_count": 2,
   "id": "82e4fa0d",
   "metadata": {},
   "outputs": [
    {
     "name": "stdout",
     "output_type": "stream",
     "text": [
      "smallest is b 15\n"
     ]
    }
   ],
   "source": [
    "#using simple math function\n",
    "a=50;\n",
    "b=15;\n",
    "c=30;\n",
    "#d=math.sqrt(c);\n",
    "#print('square root ', d)\n",
    "#print ('addition of squares of two numbers is',c)\n",
    "\n",
    "#logic flow for find smallest amont three numers\n",
    "if(a<b):\n",
    "    if(b<c):\n",
    "        print('smallest is a',a)\n",
    "    if(a<c):\n",
    "        print('smallest is a',a)\n",
    "else:\n",
    "    if(b<c):\n",
    "        print('smallest is b',b)\n",
    "    else:\n",
    "        print('smallest is c',c) \n"
   ]
  },
  {
   "cell_type": "code",
   "execution_count": null,
   "id": "96eebf5b",
   "metadata": {},
   "outputs": [],
   "source": []
  }
 ],
 "metadata": {
  "kernelspec": {
   "display_name": "Python 3",
   "language": "python",
   "name": "python3"
  },
  "language_info": {
   "codemirror_mode": {
    "name": "ipython",
    "version": 3
   },
   "file_extension": ".py",
   "mimetype": "text/x-python",
   "name": "python",
   "nbconvert_exporter": "python",
   "pygments_lexer": "ipython3",
   "version": "3.8.8"
  }
 },
 "nbformat": 4,
 "nbformat_minor": 5
}
