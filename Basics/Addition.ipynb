{
 "cells": [
  {
   "cell_type": "code",
   "execution_count": 25,
   "id": "82e4fa0d",
   "metadata": {},
   "outputs": [
    {
     "name": "stdout",
     "output_type": "stream",
     "text": [
      "[50, 15, 30]\n",
      "3\n",
      "smallest is b 15\n",
      "95\n",
      "95\n"
     ]
    }
   ],
   "source": [
    "import numpy as np\n",
    "import math\n",
    "a=50;\n",
    "b=15;\n",
    "c=30;\n",
    "d=[a,b,c]\n",
    "print(d)\n",
    "print(len(d))\n",
    "#logic flow for find smallest amont three numers\n",
    "if(a<b):\n",
    "    if(b<c):\n",
    "        print('smallest is a',a)\n",
    "    if(a<c):\n",
    "        print('smallest is a',a)\n",
    "else:\n",
    "    if(b<c):\n",
    "        print('smallest is b',b)\n",
    "    else:\n",
    "        print('smallest is c',c)\n",
    "\n",
    "        \n",
    "print(np.sum(d))\n",
    "add=0\n",
    "for i in range(len(d)):\n",
    "    add=add+d[i]\n",
    "print(add)"
   ]
  }
 ],
 "metadata": {
  "kernelspec": {
   "display_name": "Python 3",
   "language": "python",
   "name": "python3"
  },
  "language_info": {
   "codemirror_mode": {
    "name": "ipython",
    "version": 3
   },
   "file_extension": ".py",
   "mimetype": "text/x-python",
   "name": "python",
   "nbconvert_exporter": "python",
   "pygments_lexer": "ipython3",
   "version": "3.8.8"
  }
 },
 "nbformat": 4,
 "nbformat_minor": 5
}
