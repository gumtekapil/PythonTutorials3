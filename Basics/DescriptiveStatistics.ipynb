{
 "cells": [
  {
   "cell_type": "code",
   "execution_count": 1,
   "id": "ad3fb5b4",
   "metadata": {},
   "outputs": [
    {
     "name": "stdout",
     "output_type": "stream",
     "text": [
      "[1, 2, 3, 4, 5, 6, 7, 8, 9, 10, 11, 12, 13, 14, 15] 120\n",
      "8 1 8 20 4.47213595499958 0.0\n",
      "mean is 0    8.0\n",
      "dtype: float64\n",
      "mode is      0\n",
      "0    1\n",
      "1    2\n",
      "2    3\n",
      "3    4\n",
      "4    5\n",
      "5    6\n",
      "6    7\n",
      "7    8\n",
      "8    9\n",
      "9   10\n",
      "10  11\n",
      "11  12\n",
      "12  13\n",
      "13  14\n",
      "14  15\n",
      "std is 0    4.472136\n",
      "dtype: float64\n",
      "skewness is 0    0.0\n",
      "dtype: float64\n"
     ]
    }
   ],
   "source": [
    "import statistics as st\n",
    "import pandas as pd\n",
    "import numpy as np\n",
    "from scipy.stats import *\n",
    "\n",
    "\n",
    "\n",
    "A=[1,2,3,4,5,6,7,8,9,10,11,12,13,14,15]\n",
    "print(A,np.sum(A))\n",
    "val4=skew(A)\n",
    "val1=st.mean(A)\n",
    "val2=st.mode(A)\n",
    "val3=st.median(A)\n",
    "val8=st.variance(A)\n",
    "val9=st.stdev(A)\n",
    "\n",
    "print(val1,val2,val3,val8,val9,val4)\n",
    "\n",
    "df=pd.DataFrame(A)\n",
    "val10=df.mean()\n",
    "val11=df.mode()\n",
    "val12=df.std() \n",
    "val13=df.skew()\n",
    "print('mean is' ,val10)\n",
    "print('mode is',val11)\n",
    "print('std is',val12)\n",
    "print('skewness is',val13) \n",
    "\n"
   ]
  },
  {
   "cell_type": "code",
   "execution_count": null,
   "id": "795511b2",
   "metadata": {},
   "outputs": [],
   "source": []
  }
 ],
 "metadata": {
  "kernelspec": {
   "display_name": "Python 3",
   "language": "python",
   "name": "python3"
  },
  "language_info": {
   "codemirror_mode": {
    "name": "ipython",
    "version": 3
   },
   "file_extension": ".py",
   "mimetype": "text/x-python",
   "name": "python",
   "nbconvert_exporter": "python",
   "pygments_lexer": "ipython3",
   "version": "3.8.8"
  }
 },
 "nbformat": 4,
 "nbformat_minor": 5
}
