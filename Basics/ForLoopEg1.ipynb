{
 "cells": [
  {
   "cell_type": "code",
   "execution_count": null,
   "id": "e6cf21d2",
   "metadata": {},
   "outputs": [],
   "source": [
    "#using for loop \n",
    "M=10; \n",
    "print('valu of M is = ', M) ; \n",
    "for i in range(M):\n",
    "     print ('index vale', i);\n",
    "     print ('square of i using ** operatore=',(i**2));\n",
    "     print ('cube of i using power function is=',pow(i,3));\n"
   ]
  }
 ],
 "metadata": {
  "kernelspec": {
   "display_name": "Python 3",
   "language": "python",
   "name": "python3"
  },
  "language_info": {
   "codemirror_mode": {
    "name": "ipython",
    "version": 3
   },
   "file_extension": ".py",
   "mimetype": "text/x-python",
   "name": "python",
   "nbconvert_exporter": "python",
   "pygments_lexer": "ipython3",
   "version": "3.8.8"
  }
 },
 "nbformat": 4,
 "nbformat_minor": 5
}
