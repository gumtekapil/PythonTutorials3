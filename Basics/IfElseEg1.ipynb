{
 "cells": [
  {
   "cell_type": "code",
   "execution_count": 1,
   "id": "28b0f386",
   "metadata": {},
   "outputs": [
    {
     "name": "stdout",
     "output_type": "stream",
     "text": [
      "square root  5.477225575051661\n",
      "smallest is b 15\n",
      "0\n",
      "square of i using ** operatore= 0\n",
      "cube of i using ** is= 0\n",
      "cube of i using power function is= 0\n",
      "1\n",
      "square of i using ** operatore= 1\n",
      "cube of i using ** is= 1\n",
      "cube of i using power function is= 1\n",
      "2\n",
      "square of i using ** operatore= 4\n",
      "cube of i using ** is= 8\n",
      "cube of i using power function is= 8\n",
      "3\n",
      "square of i using ** operatore= 9\n",
      "cube of i using ** is= 27\n",
      "cube of i using power function is= 27\n",
      "4\n",
      "square of i using ** operatore= 16\n",
      "cube of i using ** is= 64\n",
      "cube of i using power function is= 64\n"
     ]
    }
   ],
   "source": [
    "import math\n",
    "\n",
    "#using simple math function\n",
    "a=50;\n",
    "b=15;\n",
    "c=30\n",
    "d=math.sqrt(c)\n",
    "print('square root ', d)\n",
    "#print ('addition of squares of two numbers is',c)\n",
    "\n",
    "#logic flow for find smallest amont three numers\n",
    "if(a<b):\n",
    "    if(b<c):\n",
    "        print('smallest is a',a)\n",
    "    if(a<c):\n",
    "        print('smallest is a',a)\n",
    "else:\n",
    "    if(b<c):\n",
    "        print('smallest is b',b)\n",
    "    else:\n",
    "        print('smallest is c',c)\n",
    "\n",
    "#using for loop \n",
    "M=5;   \n",
    "for i in range(M):\n",
    "     print (i);\n",
    "     print ('square of i using ** operatore=',(i**2));\n",
    "     print ('cube of i using ** is=', i**3);\n",
    "     print ('cube of i using power function is=',pow(i,3));"
   ]
  },
  {
   "cell_type": "code",
   "execution_count": null,
   "id": "2f9ef8cd",
   "metadata": {},
   "outputs": [],
   "source": []
  }
 ],
 "metadata": {
  "kernelspec": {
   "display_name": "Python 3",
   "language": "python",
   "name": "python3"
  },
  "language_info": {
   "codemirror_mode": {
    "name": "ipython",
    "version": 3
   },
   "file_extension": ".py",
   "mimetype": "text/x-python",
   "name": "python",
   "nbconvert_exporter": "python",
   "pygments_lexer": "ipython3",
   "version": "3.8.8"
  }
 },
 "nbformat": 4,
 "nbformat_minor": 5
}
