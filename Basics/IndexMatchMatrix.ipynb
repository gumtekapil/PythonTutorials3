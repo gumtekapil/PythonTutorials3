{
 "cells": [
  {
   "cell_type": "code",
   "execution_count": null,
   "id": "fbbd764e",
   "metadata": {},
   "outputs": [],
   "source": [
    "#program to compare index position of two matrix\n",
    "\n",
    "import numpy as np\n",
    "\n",
    "A=np.mat('0,1,0,1,0,1')\n",
    "P=np.mat('1,0,1,1,0,1')\n",
    "B=np.equal(A,P)\n",
    "print(np.sum(B))\n",
    "\n",
    "#https://www.hackerrank.com/2nd question\n",
    "\n",
    "num = int(input( ))\n",
    "if (num % 2) == 0:\n",
    "    if(num>=2 and num<=5):\n",
    "        print('Not Weird')\n",
    "    if(num>=6 and num<=20):\n",
    "        print('Weird') \n",
    "    if(num>20):\n",
    "        print('Not Weird')    \n",
    "    \n",
    "else:\n",
    "   print('Weird')"
   ]
  },
  {
   "cell_type": "code",
   "execution_count": null,
   "id": "fddcb669",
   "metadata": {},
   "outputs": [],
   "source": []
  }
 ],
 "metadata": {
  "kernelspec": {
   "display_name": "Python 3",
   "language": "python",
   "name": "python3"
  },
  "language_info": {
   "codemirror_mode": {
    "name": "ipython",
    "version": 3
   },
   "file_extension": ".py",
   "mimetype": "text/x-python",
   "name": "python",
   "nbconvert_exporter": "python",
   "pygments_lexer": "ipython3",
   "version": "3.8.8"
  }
 },
 "nbformat": 4,
 "nbformat_minor": 5
}
