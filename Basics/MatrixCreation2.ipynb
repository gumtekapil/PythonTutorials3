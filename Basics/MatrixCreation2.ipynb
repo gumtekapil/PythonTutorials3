{
 "cells": [
  {
   "cell_type": "code",
   "execution_count": 2,
   "id": "94a5abe3",
   "metadata": {},
   "outputs": [
    {
     "name": "stdout",
     "output_type": "stream",
     "text": [
      "A =  [[1, 2, 3], [4, 5, 6], [7, 8, 9]]\n",
      "A[0]= [1, 2, 3]\n",
      "A[1]= [4, 5, 6]\n",
      "A[2]= [7, 8, 9]\n",
      "A[1][3]= 8\n",
      "entire 1st column of A [1, 2, 3]\n",
      "matrix m =  [4, 8]\n",
      "matrix B = [[2, 4, 9], [2, 5, 6]]\n",
      "matrix B =  4\n",
      "matrix addition of B and B is BB= [[2, 4, 9], [2, 5, 6], [2, 4, 9], [2, 5, 6]]\n",
      "Original matrix \n",
      "[[1 2 3 4]\n",
      " [4 5 6 8]\n",
      " [7 6 8 9]]\n",
      "Row from \n",
      "[1 2 3 4]\n",
      "6\n",
      "[[ 2  4  6  8]\n",
      " [ 8 10 12 16]\n",
      " [14 12 16 18]]\n"
     ]
    }
   ],
   "source": [
    "#Date 31st Aug,2021\n",
    "#creating arrays & matrix\n",
    "import numpy as np\n",
    "\n",
    "m=[4,8]; #single array\n",
    "\n",
    "#2d array\n",
    "A= [[1 ,2, 3], \n",
    "    [4, 5, 6], \n",
    "    [7, 8, 9]]\n",
    "\n",
    "print('A = ',A)\n",
    "print('A[0]=',A[0]) #1st row  \n",
    "print('A[1]=',A[1]) #2nd row\n",
    "print('A[2]=',A[2]) #3rd row\n",
    "print('A[1][3]=',A[2][1]) #1st roaw , 3rd column\n",
    "print('entire 1st column of A', A[:][0])\n",
    "print('matrix m = ',m) \n",
    "\n",
    "r=3;#10 rows\n",
    "c=3; #1o columns\n",
    "B=[ ]\n",
    "\n",
    "for i in range(r):\n",
    "    for j in range(c):\n",
    "        B=[[i,i+2,i+7],[j,j+3,j+4]];#2d arrary\n",
    "\n",
    "print('matrix B =',B)        \n",
    "print('matrix B = ',B[0][1]) #1st row and 2nd column of B\n",
    "\n",
    "\n",
    "C=B + B;\n",
    "print('matrix addition of B and B is BB=',C)\n",
    "\n",
    "\n",
    "mat1 = np.array([[1, 2, 3, 4], [4, 5, 6, 8], [7, 6, 8, 9]])\n",
    "print(\"Original matrix \");print(mat1)\n",
    "\n",
    "print(\"Row from \")\n",
    "print(mat1[0,:]) #1st row, all columns\n",
    "print(mat1[1,2])#2nd row and 3rd column\n",
    "print(mat1+mat1)\n",
    "\n",
    "\n",
    "\n"
   ]
  },
  {
   "cell_type": "code",
   "execution_count": null,
   "id": "973d72bb",
   "metadata": {},
   "outputs": [],
   "source": []
  }
 ],
 "metadata": {
  "kernelspec": {
   "display_name": "Python 3",
   "language": "python",
   "name": "python3"
  },
  "language_info": {
   "codemirror_mode": {
    "name": "ipython",
    "version": 3
   },
   "file_extension": ".py",
   "mimetype": "text/x-python",
   "name": "python",
   "nbconvert_exporter": "python",
   "pygments_lexer": "ipython3",
   "version": "3.8.8"
  }
 },
 "nbformat": 4,
 "nbformat_minor": 5
}
