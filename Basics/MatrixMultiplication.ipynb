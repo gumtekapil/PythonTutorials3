{
 "cells": [
  {
   "cell_type": "code",
   "execution_count": 2,
   "id": "abd539e9",
   "metadata": {},
   "outputs": [
    {
     "name": "stdout",
     "output_type": "stream",
     "text": [
      "3 3\n",
      "([1, 6, 5], [3, 4, 8], [2, 12, 3])\n",
      "([3, 4, 6], [5, 6, 7], [6, 56, 7])\n",
      "[[ 63 320  83]\n",
      " [ 77 484 102]\n",
      " [ 84 248 117]]\n",
      "yes\n",
      "([63, 320, 83], [77, 484, 102], [84, 248, 117])\n",
      "[[ 0  1  2  3]\n",
      " [ 4  5  6  7]\n",
      " [ 8  9 10 11]]\n",
      "[[ 0  1  2  3]\n",
      " [ 4  5  6  7]\n",
      " [ 8  9 10 11]]\n",
      "[ 0  1  2  3  4  5  6  7  8  9 10 11 12 13]\n",
      "[[2 3 4]\n",
      " [3 4 4]]\n",
      "result matrix [[44 53 62 71]\n",
      " [48 59 70 81]]\n",
      "[[  0   1   4   9]\n",
      " [ 16  25  36  49]\n",
      " [ 64  81 100 121]]\n"
     ]
    }
   ],
   "source": [
    "#matrix multiplication\n",
    "\n",
    "import numpy as np\n",
    "from numpy.core.shape_base import atleast_2d\n",
    "mat1 = ([1, 6, 5],[3 ,4, 8],[2, 12, 3])\n",
    "mat2 = ([3, 4, 6],[5, 6, 7],[6,56, 7])\n",
    "[r1,c1]=np.shape(mat1)\n",
    "[r2,c2]=np.shape(mat1)\n",
    "\n",
    "print(r1,c1)\n",
    "print(mat1)\n",
    "print(mat2)\n",
    "res = np.dot(mat1,mat2)\n",
    "print(res)\n",
    "\n",
    "if c1==r2:\n",
    "    print('yes')\n",
    "\n",
    "##########################################################\n",
    "result=([0, 0, 0],[0 ,0, 0],[0, 0, 0])\n",
    "\n",
    "for i in range(r1):\n",
    "    for j in range(c2):\n",
    "        for k in range(r2):\n",
    "            result[i][j]  = result[i][j]+ mat1[i][k]*mat2[k][j]\n",
    "\n",
    "print(result)\n",
    "###########################################################\n",
    "A=np.arange(12).reshape(3,4)\n",
    "print(A)\n",
    "A2=np.arange(12).reshape(3,4)\n",
    "print(A2)\n",
    "B=np.arange(14)\n",
    "print(B)\n",
    "C=np.array([[2,3,4],[3,4,4]])\n",
    "print(C)\n",
    "\n",
    "D=np.matmul(C,A)\n",
    "print('result matrix', D)\n",
    "\n",
    "#multiplying by element by element\n",
    "E=A*A2\n",
    "print(E)\n",
    "\n"
   ]
  },
  {
   "cell_type": "code",
   "execution_count": null,
   "id": "1afbd3e6",
   "metadata": {},
   "outputs": [],
   "source": []
  }
 ],
 "metadata": {
  "kernelspec": {
   "display_name": "Python 3",
   "language": "python",
   "name": "python3"
  },
  "language_info": {
   "codemirror_mode": {
    "name": "ipython",
    "version": 3
   },
   "file_extension": ".py",
   "mimetype": "text/x-python",
   "name": "python",
   "nbconvert_exporter": "python",
   "pygments_lexer": "ipython3",
   "version": "3.8.8"
  }
 },
 "nbformat": 4,
 "nbformat_minor": 5
}
