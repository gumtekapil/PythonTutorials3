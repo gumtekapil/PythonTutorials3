{
 "cells": [
  {
   "cell_type": "code",
   "execution_count": 1,
   "id": "7950ae7c",
   "metadata": {},
   "outputs": [
    {
     "name": "stdout",
     "output_type": "stream",
     "text": [
      "enter number of row =4\n",
      "enter number of col =5\n",
      "[[0 0 0 0]\n",
      " [0 0 0 0]]\n",
      "2\n",
      "1\n",
      "2 4\n",
      "enter value  = 4\n",
      "enter value  = 5\n",
      "enter value  = 6\n",
      "enter value  = 4\n",
      "enter value  = 5\n",
      "enter value  = 5\n",
      "enter value  = 5\n",
      "enter value  = 5\n",
      "[[4 5 6 4]\n",
      " [5 5 5 5]]\n"
     ]
    }
   ],
   "source": [
    "#creating matrix from user input\n",
    "import numpy as np\n",
    "\n",
    "m=input('enter number of row =')\n",
    "n=input('enter number of col =')\n",
    "\n",
    "A=np.mat('0 0 0 0;0 0 0 0')\n",
    "print(A)\n",
    "#A=np.array([[0,0,0],[0,0,0],[0,0,0]])\n",
    "row=len(A)\n",
    "print(row)\n",
    "col=len(A[0])\n",
    "print(col)\n",
    "[row,col]=np.shape(A)\n",
    "print(row,col)\n",
    "\n",
    "for i in range(row):\n",
    "    for j in range(col):\n",
    "        A[i,j]=input('enter value  = ')  \n",
    "\n",
    "print(A)\n",
    "   "
   ]
  },
  {
   "cell_type": "code",
   "execution_count": null,
   "id": "1174c3f3",
   "metadata": {},
   "outputs": [],
   "source": []
  }
 ],
 "metadata": {
  "kernelspec": {
   "display_name": "Python 3",
   "language": "python",
   "name": "python3"
  },
  "language_info": {
   "codemirror_mode": {
    "name": "ipython",
    "version": 3
   },
   "file_extension": ".py",
   "mimetype": "text/x-python",
   "name": "python",
   "nbconvert_exporter": "python",
   "pygments_lexer": "ipython3",
   "version": "3.8.8"
  }
 },
 "nbformat": 4,
 "nbformat_minor": 5
}
