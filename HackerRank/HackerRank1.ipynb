{
 "cells": [
  {
   "cell_type": "code",
   "execution_count": null,
   "id": "841bb2f6",
   "metadata": {},
   "outputs": [
    {
     "name": "stdout",
     "output_type": "stream",
     "text": [
      "3\n"
     ]
    }
   ],
   "source": [
    "#program to compare index position of two matrix\n",
    "\n",
    "import numpy as np\n",
    "\n",
    "A=np.mat('0,1,0,1,0,1')\n",
    "P=np.mat('1,0,1,1,0,1')\n",
    "B=np.equal(A,P)\n",
    "print(np.sum(B))\n",
    "\n",
    "#https://www.hackerrank.com/2nd question\n",
    "num = int(input( ))\n",
    "if (num % 2) == 0:\n",
    "    if(num>=2 and num<=5):\n",
    "        print('Not Weird')\n",
    "    if(num>=6 and num<=20):\n",
    "        print('Weird') \n",
    "    if(num>20):\n",
    "        print('Not Weird')    \n",
    "    \n",
    "else:\n",
    "   print('Weird')\n",
    "\n",
    "\n",
    "a=input('enter the value of a =' )\n",
    "print(a)\n",
    "b=3\n",
    "print(a+b)\n",
    "print(a-b)\n",
    "print(a*b)\n",
    "\n",
    "#integer division and float division\n",
    "print(5//2) \n",
    "print(5/2)\n",
    "\n",
    "a=input('Enter the value of a:')\n",
    "b=input('Enter the value of b:')\n",
    "print(a//b)\n",
    "print(a/b)\n",
    "\n",
    "#appending number before 3 to 3 as 123\n",
    "n=input('Enter the value of n:')\n",
    "print(*list(range(1, n + 1)), sep='')"
   ]
  },
  {
   "cell_type": "code",
   "execution_count": null,
   "id": "f745c299",
   "metadata": {},
   "outputs": [],
   "source": []
  }
 ],
 "metadata": {
  "kernelspec": {
   "display_name": "Python 3",
   "language": "python",
   "name": "python3"
  },
  "language_info": {
   "codemirror_mode": {
    "name": "ipython",
    "version": 3
   },
   "file_extension": ".py",
   "mimetype": "text/x-python",
   "name": "python",
   "nbconvert_exporter": "python",
   "pygments_lexer": "ipython3",
   "version": "3.8.8"
  }
 },
 "nbformat": 4,
 "nbformat_minor": 5
}
