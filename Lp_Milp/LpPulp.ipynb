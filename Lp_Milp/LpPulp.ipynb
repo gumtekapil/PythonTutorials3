{
 "cells": [
  {
   "cell_type": "code",
   "execution_count": 1,
   "id": "f853bd95",
   "metadata": {},
   "outputs": [
    {
     "name": "stdout",
     "output_type": "stream",
     "text": [
      "start of normal lp problem\n",
      "5*cake + 10*log\n",
      "OrderedDict([('constraint1', 1*cake + 5*log + -90 <= 0), ('constraint2', 10*cake + 1*log + -300 <= 0), ('constraint3', 6*cake + 4*log + -125 <= 0)])\n",
      "status: 1\n",
      "cake = 10.192308\n",
      "log = 15.961538\n",
      "Optimalsol = 210.57691999999997\n"
     ]
    }
   ],
   "source": [
    "from pulp import *\n",
    "print('start of normal lp problem')\n",
    "\n",
    "lp=LpProblem('bakeryproblem',LpMaximize)\n",
    "\n",
    "#dv\n",
    "x1=LpVariable(name='log',lowBound=0)\n",
    "x2=LpVariable(name='cake',lowBound=0)\n",
    "\n",
    "#obj\n",
    "lp += 10*x1+5*x2\n",
    "print(lp.objective)\n",
    "\n",
    "#constraints\n",
    "lp += (5*x1+1*x2 <=90, 'constraint1')\n",
    "lp += (1*x1+10*x2 <=300, 'constraint2')\n",
    "lp += (4*x1+6*x2 <=125, 'constraint3')\n",
    "print(lp.constraints)\n",
    "\n",
    "#now  solver\n",
    "#status = lp.solve(PULP_CBC_CMD(msg=0)) # to see without messages\n",
    "status=lp.solve() #to see with messages\n",
    "print('status:',status) #1:optimal, 2:not solved, 3:infeasible, 4:unbounded, 5:undef\n",
    "\n",
    "#solution\n",
    "for var in lp.variables():\n",
    "    print(var, \"=\", value(var))\n",
    "\n",
    "print(\"Optimalsol =\", value(lp.objective))\n"
   ]
  },
  {
   "cell_type": "code",
   "execution_count": null,
   "id": "9857913f",
   "metadata": {},
   "outputs": [],
   "source": []
  }
 ],
 "metadata": {
  "kernelspec": {
   "display_name": "Python 3",
   "language": "python",
   "name": "python3"
  },
  "language_info": {
   "codemirror_mode": {
    "name": "ipython",
    "version": 3
   },
   "file_extension": ".py",
   "mimetype": "text/x-python",
   "name": "python",
   "nbconvert_exporter": "python",
   "pygments_lexer": "ipython3",
   "version": "3.8.8"
  }
 },
 "nbformat": 4,
 "nbformat_minor": 5
}
