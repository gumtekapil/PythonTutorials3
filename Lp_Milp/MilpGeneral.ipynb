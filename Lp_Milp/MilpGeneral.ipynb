{
 "cells": [
  {
   "cell_type": "code",
   "execution_count": 1,
   "id": "f70ac942",
   "metadata": {},
   "outputs": [
    {
     "name": "stdout",
     "output_type": "stream",
     "text": [
      "{1: bakeryitems_1, 2: bakeryitems_2}\n",
      "status: 1\n",
      "bakeryitems_1 = 16.0\n",
      "bakeryitems_2 = 10.0\n",
      "Optimalsol = 210.0\n"
     ]
    }
   ],
   "source": [
    "from pulp import *\n",
    "lp = LpProblem(\"Bakery_Problem\", LpMaximize)\n",
    "\n",
    "var_key=[1,2]\n",
    "x=LpVariable.dicts('bakeryitems',var_key, lowBound=0,cat='Integer')\n",
    "print(x)\n",
    "\n",
    "#objective function\n",
    "lp += 10*x[1] + 5*x[2]\n",
    "\n",
    "#constraints\n",
    "#lp += (5*x[1] + x[2] <=90, 'cons1')\n",
    "#lp += ( lpSum( [5*x[1], x[2]] ) <= 90  )\n",
    "#rewrite the first constraint\n",
    "coeff= [5,1] #this is to be obtained from external file like excel or text or csv\n",
    "coeff_dict=dict(zip(var_key,coeff))\n",
    "lp += ( lpSum(coeff_dict[i]*x[i] for i in var_key) <=90 )\n",
    "\n",
    "#2nd and 3rd constraint, try creating loop for more number of constraints\n",
    "lp += (1*x[1] +10*x[2] <= 300,'cons2')\n",
    "lp += (4*x[1] +6*x[2] <= 125,'cons3')\n",
    "    \n",
    "\n",
    "#now  solver\n",
    "status = lp.solve(PULP_CBC_CMD(msg=0)) # to see without messages\n",
    "#status=lp.solve() #to see with messages\n",
    "print('status:',status) #1:optimal, 2:not solved, 3:infeasible, 4:unbounded, 5:undef\n",
    "\n",
    "#solution\n",
    "for var in lp.variables():\n",
    "    print(var, \"=\", value(var))\n",
    "\n",
    "print(\"Optimalsol =\", value(lp.objective))\n"
   ]
  },
  {
   "cell_type": "code",
   "execution_count": null,
   "id": "4b14866c",
   "metadata": {},
   "outputs": [],
   "source": []
  }
 ],
 "metadata": {
  "kernelspec": {
   "display_name": "Python 3",
   "language": "python",
   "name": "python3"
  },
  "language_info": {
   "codemirror_mode": {
    "name": "ipython",
    "version": 3
   },
   "file_extension": ".py",
   "mimetype": "text/x-python",
   "name": "python",
   "nbconvert_exporter": "python",
   "pygments_lexer": "ipython3",
   "version": "3.8.8"
  }
 },
 "nbformat": 4,
 "nbformat_minor": 5
}
