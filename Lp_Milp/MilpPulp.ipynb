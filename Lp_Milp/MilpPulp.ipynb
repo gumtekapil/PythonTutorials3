{
 "cells": [
  {
   "cell_type": "code",
   "execution_count": 1,
   "id": "1c70fb9a",
   "metadata": {},
   "outputs": [
    {
     "name": "stdout",
     "output_type": "stream",
     "text": [
      "10*Bowdoin_log + 5*Chocolate_cake\n",
      "OrderedDict([('oven_constraint', 5*Bowdoin_log + 1*Chocolate_cake + -90 <= 0), ('food_processor_constraint', 1*Bowdoin_log + 10*Chocolate_cake + -300 <= 0), ('boiler_constraint', 4*Bowdoin_log + 6*Chocolate_cake + -125 <= 0)])\n",
      "Status: 1\n",
      "Bowdoin_log = 16.0\n",
      "Chocolate_cake = 10.0\n",
      "OPT = 210.0\n"
     ]
    }
   ],
   "source": [
    "#   PuLP Tutorial\n",
    "from pulp import *\n",
    "\n",
    "#Elementary features:\n",
    "\n",
    "lp = LpProblem(\"Bakery_Problem\", LpMaximize)\n",
    "\n",
    "#Define variables, you can define them as integer explicitly , making the lp problem as milp\n",
    "x1 = LpVariable(name=\"Bowdoin_log\", lowBound=0)\n",
    "x2 = LpVariable(name=\"Chocolate_cake\", lowBound=0,cat='Integer')\n",
    "\n",
    "#Add the objective function\n",
    "lp += 10 * x1 + 5 * x2\n",
    "print(lp.objective)\n",
    "\n",
    "# Add the constraints\n",
    "lp += (5 * x1 + x2 <= 90, \"oven_constraint\")\n",
    "lp += (x1 + 10 * x2 <= 300, \"food_processor_constraint\")\n",
    "lp += (4 * x1 + 6 * x2 <= 125, \"boiler_constraint\")\n",
    "print(lp.constraints)\n",
    "\n",
    "# Solve the LP\n",
    "status = lp.solve(PULP_CBC_CMD(msg=0))\n",
    "print(\"Status:\", status) #1:optimal, 2:not solved, 3:infeasible, 4:unbounded, 5:undef\n",
    "\n",
    "#Print solution\n",
    "for var in lp.variables():\n",
    "    print(var, \"=\", value(var))\n",
    "print(\"OPT =\", value(lp.objective))\n"
   ]
  },
  {
   "cell_type": "code",
   "execution_count": null,
   "id": "5499652e",
   "metadata": {},
   "outputs": [],
   "source": []
  }
 ],
 "metadata": {
  "kernelspec": {
   "display_name": "Python 3",
   "language": "python",
   "name": "python3"
  },
  "language_info": {
   "codemirror_mode": {
    "name": "ipython",
    "version": 3
   },
   "file_extension": ".py",
   "mimetype": "text/x-python",
   "name": "python",
   "nbconvert_exporter": "python",
   "pygments_lexer": "ipython3",
   "version": "3.8.8"
  }
 },
 "nbformat": 4,
 "nbformat_minor": 5
}
