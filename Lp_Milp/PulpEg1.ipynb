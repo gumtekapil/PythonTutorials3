{
 "cells": [
  {
   "cell_type": "code",
   "execution_count": 1,
   "id": "da3b1476",
   "metadata": {},
   "outputs": [
    {
     "name": "stdout",
     "output_type": "stream",
     "text": [
      "900*fp + 1100*tp\n",
      "OrderedDict([('constraint1', 1*fp + -500 >= 0), ('constraint2', 1*tp + -200 >= 0), ('constraint3', 2*fp + 1.5*tp + -2999.5 <= 0)])\n",
      "status: 1\n",
      "fp = 500.0\n",
      "tp = 1333.0\n",
      "Optimalsol = 1916300.0\n"
     ]
    }
   ],
   "source": [
    "from pulp import *\n",
    "lp = LpProblem(\"phone\", LpMaximize)\n",
    "\n",
    "x1 = LpVariable(name=\"fp\", lowBound=0, cat='Integer')\n",
    "x2 = LpVariable(name=\"tp\", lowBound=0, cat='Integer')\n",
    "\n",
    "lp += 900*x1 + 1100*x2\n",
    "print(lp.objective)\n",
    "\n",
    "\n",
    "#constraints\n",
    "lp += (x1 >=500, 'constraint1')\n",
    "lp += (x2 >=200, 'constraint2')\n",
    "lp += ( 2*x1 + 1.5*x2 <=2999.5, 'constraint3')\n",
    "print(lp.constraints)\n",
    "\n",
    "status=lp.solve(PULP_CBC_CMD(msg=0)) \n",
    "print('status:',status)\n",
    "\n",
    "\n",
    "for var in lp.variables():\n",
    "    print(var, \"=\", value(var))\n",
    "\n",
    "print(\"Optimalsol =\", value(lp.objective))"
   ]
  },
  {
   "cell_type": "code",
   "execution_count": null,
   "id": "26f6a577",
   "metadata": {},
   "outputs": [],
   "source": []
  }
 ],
 "metadata": {
  "kernelspec": {
   "display_name": "Python 3",
   "language": "python",
   "name": "python3"
  },
  "language_info": {
   "codemirror_mode": {
    "name": "ipython",
    "version": 3
   },
   "file_extension": ".py",
   "mimetype": "text/x-python",
   "name": "python",
   "nbconvert_exporter": "python",
   "pygments_lexer": "ipython3",
   "version": "3.8.8"
  }
 },
 "nbformat": 4,
 "nbformat_minor": 5
}
