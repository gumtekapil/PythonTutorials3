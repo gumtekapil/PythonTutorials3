{
 "cells": [
  {
   "cell_type": "code",
   "execution_count": 1,
   "id": "2367c59b",
   "metadata": {},
   "outputs": [
    {
     "name": "stdout",
     "output_type": "stream",
     "text": [
      "status: 1\n",
      "shipments_Clermont_Orlando = 300000.0\n",
      "shipments_Eustics_Leesburg = 150000.0\n",
      "shipments_Eustics_Orlando = 250000.0\n",
      "shipments_MtDora_Leesburg = 75000.0\n",
      "shipments_MtDora_Ocala = 200000.0\n",
      "Optimalsol = 24000000.0\n"
     ]
    }
   ],
   "source": [
    "#minimizing transport cost to transfer material from groves site to plants site\n",
    "#with capacity constraint at supplier groves and destination plants\n",
    "\n",
    "from pulp import *\n",
    "#SETS\n",
    "groves=['MtDora','Eustics','Clermont']\n",
    "plants=['Ocala','Orlando','Leesburg']\n",
    "\n",
    "#Dictionary of amount each groove will supply\n",
    "supply={'MtDora':275000,\n",
    "        'Eustics':400000,\n",
    "        'Clermont':300000}\n",
    "\n",
    "#Dictionary of max amount that can be shipped to each plant\n",
    "mship={'Ocala':200000,\n",
    "       'Orlando':600000, \n",
    "       'Leesburg':225000 }\n",
    "\n",
    "#Dictionar of bushel miles for all groves and plants\n",
    "bush={'MtDora':{'Ocala':21, 'Orlando':50, 'Leesburg':40 },\n",
    "      'Eustics':{'Ocala':35, 'Orlando':30, 'Leesburg':22 },\n",
    "      'Clermont':{'Ocala':55,'Orlando':20,'Leesburg':25}\n",
    "       }\n",
    "\n",
    "#set problem variables\n",
    "prob=LpProblem('Trans',LpMinimize)\n",
    "\n",
    "routes=[(i,j) for i in groves for j in plants]\n",
    "\n",
    "#decision variables\n",
    "amount_vars=LpVariable.dicts('shipments',(groves,plants),0)\n",
    "\n",
    "#objective function\n",
    "prob += lpSum(amount_vars[i][j]*bush[i][j] for (i,j) in routes)\n",
    "\n",
    "#constraints\n",
    "for j in plants:\n",
    "    prob += lpSum(amount_vars[i][j] for i in groves) <= mship[j] \n",
    "\n",
    "for i in groves:\n",
    "    prob += lpSum(amount_vars[i][j] for j in plants) == supply[i] \n",
    "\n",
    "#status=prob.solve(PULP_CBC_CMD(msg=0))\n",
    "status=prob.solve()\n",
    "print('status:', status)\n",
    "\n",
    "#solution\n",
    "for var in prob.variables():\n",
    "    if var.varValue > 0:\n",
    "        print(var, \"=\", value(var))\n",
    "\n",
    "print(\"Optimalsol =\", value(prob.objective))\n"
   ]
  },
  {
   "cell_type": "code",
   "execution_count": null,
   "id": "c21216a2",
   "metadata": {},
   "outputs": [],
   "source": []
  }
 ],
 "metadata": {
  "kernelspec": {
   "display_name": "Python 3",
   "language": "python",
   "name": "python3"
  },
  "language_info": {
   "codemirror_mode": {
    "name": "ipython",
    "version": 3
   },
   "file_extension": ".py",
   "mimetype": "text/x-python",
   "name": "python",
   "nbconvert_exporter": "python",
   "pygments_lexer": "ipython3",
   "version": "3.8.8"
  }
 },
 "nbformat": 4,
 "nbformat_minor": 5
}
