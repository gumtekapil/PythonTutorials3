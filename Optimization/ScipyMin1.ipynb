{
 "cells": [
  {
   "cell_type": "code",
   "execution_count": 1,
   "id": "ab74d5fb",
   "metadata": {},
   "outputs": [
    {
     "name": "stdout",
     "output_type": "stream",
     "text": [
      "     fun: 12.938954920883033\n",
      "     jac: array([14.28330624,  1.34434915,  1.34434915,  9.62470031])\n",
      " message: 'Optimization terminated successfully'\n",
      "    nfev: 26\n",
      "     nit: 5\n",
      "    njev: 5\n",
      "  status: 0\n",
      " success: True\n",
      "       x: array([1.        , 4.31235006, 4.31235006, 1.34434889])\n",
      "decision variables are [1.         4.31235006 4.31235006 1.34434889]\n"
     ]
    }
   ],
   "source": [
    "import numpy as np\n",
    "from scipy.optimize import minimize\n",
    "\n",
    "def objfun(x):\n",
    "    x1=x[0]\n",
    "    x2=x[1]\n",
    "    x3=x[2]\n",
    "    x4=x[3]\n",
    "    return x1*x4*(x1 + x2 + x3 )\n",
    "\n",
    "def constraint1(x):\n",
    "    return x[0]*x[1]*x[2]*x[3]-25\n",
    "\n",
    "def constraint2(x):\n",
    "    sumsq=40\n",
    "    for i in range(4):\n",
    "        sumsq=sumsq - x[i]**2\n",
    "    return sumsq\n",
    "\n",
    "x0=[3,3,3,3]\n",
    "b=(1,5)\n",
    "bnds=[b,b,b,b]\n",
    "\n",
    "cons1 = {'type':'ineq','fun':constraint1}\n",
    "cons2 = {'type':'eq','fun':constraint2}\n",
    "cons= [cons1,cons2]\n",
    "\n",
    "sol=minimize(objfun,x0,method='slsqp',bounds=bnds,constraints=cons)\n",
    "print(sol)\n",
    "print('decision variables are', sol.x)\n",
    "\n",
    "\n"
   ]
  },
  {
   "cell_type": "code",
   "execution_count": null,
   "id": "e9b82a12",
   "metadata": {},
   "outputs": [],
   "source": []
  }
 ],
 "metadata": {
  "kernelspec": {
   "display_name": "Python 3",
   "language": "python",
   "name": "python3"
  },
  "language_info": {
   "codemirror_mode": {
    "name": "ipython",
    "version": 3
   },
   "file_extension": ".py",
   "mimetype": "text/x-python",
   "name": "python",
   "nbconvert_exporter": "python",
   "pygments_lexer": "ipython3",
   "version": "3.8.8"
  }
 },
 "nbformat": 4,
 "nbformat_minor": 5
}
