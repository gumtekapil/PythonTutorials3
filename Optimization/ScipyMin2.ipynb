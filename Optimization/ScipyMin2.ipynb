{
 "cells": [
  {
   "cell_type": "code",
   "execution_count": 1,
   "id": "54192bdb",
   "metadata": {},
   "outputs": [
    {
     "name": "stdout",
     "output_type": "stream",
     "text": [
      "decision variables [  10.46680532 -100.        ]\n"
     ]
    }
   ],
   "source": [
    "import numpy as np\n",
    "from scipy.optimize import minimize\n",
    "\n",
    "def objfun(x):\n",
    "    x1 = x[0]\n",
    "    x2 = x[1]\n",
    "    return x1**2 + x1*x2 \n",
    "\n",
    "def c1(x):\n",
    "    x1 = x[0]\n",
    "    x2 = x[1]\n",
    "    return x1**3 + x1*x2 -100\n",
    "\n",
    "def c2(x):\n",
    "    x1 = x[0]\n",
    "    x2 = x[1]\n",
    "    return x1**3 + x1*x2 -50\n",
    "\n",
    "xini=[-87,47]\n",
    "\n",
    "x1bnds=(-100,100)\n",
    "x2bnds=(-100,100)\n",
    "bnd=[x1bnds,x2bnds]\n",
    "\n",
    "const1 ={'type':'eq', 'fun':c1}\n",
    "const2 ={'type':'ineq','fun':c2}\n",
    "const=[const1,const2]\n",
    "\n",
    "sol=minimize(objfun,xini,method='SLSQP',bounds=bnd,constraints=const)\n",
    "print('decision variables', sol.x)"
   ]
  },
  {
   "cell_type": "code",
   "execution_count": null,
   "id": "4109c680",
   "metadata": {},
   "outputs": [],
   "source": []
  }
 ],
 "metadata": {
  "kernelspec": {
   "display_name": "Python 3",
   "language": "python",
   "name": "python3"
  },
  "language_info": {
   "codemirror_mode": {
    "name": "ipython",
    "version": 3
   },
   "file_extension": ".py",
   "mimetype": "text/x-python",
   "name": "python",
   "nbconvert_exporter": "python",
   "pygments_lexer": "ipython3",
   "version": "3.8.8"
  }
 },
 "nbformat": 4,
 "nbformat_minor": 5
}
