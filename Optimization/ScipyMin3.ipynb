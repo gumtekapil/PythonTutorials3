{
 "cells": [
  {
   "cell_type": "code",
   "execution_count": 1,
   "id": "97225342",
   "metadata": {},
   "outputs": [
    {
     "name": "stdout",
     "output_type": "stream",
     "text": [
      "overall solution      fun: -937.126518351044\n",
      "     jac: array([-79.06638336,  10.46681213])\n",
      " message: 'Optimization terminated successfully'\n",
      "    nfev: 72\n",
      "     nit: 23\n",
      "    njev: 23\n",
      "  status: 0\n",
      " success: True\n",
      "       x: array([  10.46680532, -100.        ])\n",
      "decision variables [  10.46680532 -100.        ]\n"
     ]
    }
   ],
   "source": [
    "import numpy as np\n",
    "from scipy.optimize import minimize\n",
    "\n",
    "objfun = lambda x: x[0]**2 + x[0]*x[1]\n",
    "\n",
    "const=[{'type':'eq', 'fun': lambda x: x[0]**3 + x[0]*x[1] -100},\n",
    "       {'type':'ineq','fun':lambda x: x[0]**3 + x[0]*x[1] -50}  ]\n",
    "\n",
    "xini=[-87,47]\n",
    "\n",
    "x1bnds=(-100,100)\n",
    "x2bnds=(-100,100)\n",
    "bnd=[x1bnds,x2bnds]\n",
    "\n",
    "sol=minimize(objfun,xini,method='SLSQP',bounds=bnd,constraints=const)\n",
    "print('overall solution', sol)\n",
    "print('decision variables', sol.x)"
   ]
  },
  {
   "cell_type": "code",
   "execution_count": null,
   "id": "f4f891a1",
   "metadata": {},
   "outputs": [],
   "source": []
  }
 ],
 "metadata": {
  "kernelspec": {
   "display_name": "Python 3",
   "language": "python",
   "name": "python3"
  },
  "language_info": {
   "codemirror_mode": {
    "name": "ipython",
    "version": 3
   },
   "file_extension": ".py",
   "mimetype": "text/x-python",
   "name": "python",
   "nbconvert_exporter": "python",
   "pygments_lexer": "ipython3",
   "version": "3.8.8"
  }
 },
 "nbformat": 4,
 "nbformat_minor": 5
}
