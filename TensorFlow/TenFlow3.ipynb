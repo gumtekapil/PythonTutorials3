{
 "cells": [
  {
   "cell_type": "code",
   "execution_count": 44,
   "id": "41152fe4",
   "metadata": {},
   "outputs": [],
   "source": [
    "#ref: https://www.youtube.com/watch?v=wQ8BIBpya2k\n",
    "import tensorflow as tf\n",
    "#using data called mnist\n",
    "mnist=tf.keras.datasets.mnist #28*28 images of hand written digits 0-9\n",
    "\n",
    "(x_train,y_train),(x_test,y_test)=mnist.load_data()\n",
    "\n",
    "#scale or normalize the data\n",
    "x_train=tf.keras.utils.normalize(x_train,axis=1)\n",
    "x_test=tf.keras.utils.normalize(x_test,axis=1)"
   ]
  },
  {
   "cell_type": "code",
   "execution_count": 45,
   "id": "d6371791",
   "metadata": {},
   "outputs": [],
   "source": [
    "#Architechture of model\n",
    "#bulding the model, feed forward model(sequentail model)\n",
    "model=tf.keras.models.Sequential()\n",
    "\n",
    "#first layer\n",
    "model.add(tf.keras.layers.Flatten()) \n",
    "#to flatten the dense network of nn, generally used in cnn, but here using for input layer\n",
    "\n",
    "#now hidden layers\n",
    "model.add(tf.keras.layers.Dense(128,activation=tf.nn.relu)) \n",
    "#dense used for nn, 128 is for number of nodes in first  hidden layer\n",
    "#relu activation function to fire the neuron\n",
    "\n",
    "#second layer\n",
    "model.add(tf.keras.layers.Dense(128,activation=tf.nn.relu)) \n",
    "\n",
    "#third layer, output layer\n",
    "model.add(tf.keras.layers.Dense(10,activation=tf.nn.softmax))\n",
    "#softmax for probabilty distribution"
   ]
  },
  {
   "cell_type": "code",
   "execution_count": 46,
   "id": "e18ba49b",
   "metadata": {},
   "outputs": [
    {
     "name": "stdout",
     "output_type": "stream",
     "text": [
      "Epoch 1/3\n",
      "1875/1875 [==============================] - 3s 2ms/step - loss: 0.2616 - accuracy: 0.9226\n",
      "Epoch 2/3\n",
      "1875/1875 [==============================] - 3s 2ms/step - loss: 0.1048 - accuracy: 0.9673\n",
      "Epoch 3/3\n",
      "1875/1875 [==============================] - 3s 2ms/step - loss: 0.0726 - accuracy: 0.9766\n"
     ]
    },
    {
     "data": {
      "text/plain": [
       "<keras.callbacks.History at 0x14d8e5dc430>"
      ]
     },
     "execution_count": 46,
     "metadata": {},
     "output_type": "execute_result"
    }
   ],
   "source": [
    "#training data set\n",
    "model.compile(optimizer='adam',\n",
    "             loss='sparse_categorical_crossentropy',\n",
    "             metrics=['accuracy']\n",
    "             )\n",
    "#optimizer, most critical part nn, in keras approx 10 types of optimizer,\n",
    "#adam is default optimizer\n",
    "#eg. gradient descent use stochastic gradient descent\n",
    "#loss is degree of error, nn minimize the loss\n",
    "#in case of cat vs dog, use binary loss\n",
    "\n",
    "model.fit(x_train,y_train,epochs=3)"
   ]
  },
  {
   "cell_type": "code",
   "execution_count": 47,
   "id": "22a6a455",
   "metadata": {},
   "outputs": [
    {
     "name": "stdout",
     "output_type": "stream",
     "text": [
      "313/313 [==============================] - 0s 1ms/step - loss: 0.0830 - accuracy: 0.9734\n",
      "0.08299122750759125 0.9733999967575073\n"
     ]
    }
   ],
   "source": [
    "#calculate the validation loss\n",
    "val_loss,val_acc=model.evaluate(x_test,y_test)\n",
    "print(val_loss,val_acc)\n",
    "\n",
    "#validation loss should be slightly greater than epoch last value in model fit \n",
    "#valicatoin accuracy should be slightly lower than epoch last value in model fit\n",
    "#it should not be too close, it should not have too difference"
   ]
  },
  {
   "cell_type": "code",
   "execution_count": 49,
   "id": "cabccdd3",
   "metadata": {},
   "outputs": [
    {
     "name": "stdout",
     "output_type": "stream",
     "text": [
      "INFO:tensorflow:Assets written to: epic_num_reader\\assets\n"
     ]
    }
   ],
   "source": [
    "#save and load the model\n",
    "model.save('epic_num_reader')\n",
    "new_model=tf.keras.models.load_model('epic_num_reader')"
   ]
  },
  {
   "cell_type": "code",
   "execution_count": 50,
   "id": "366355ec",
   "metadata": {},
   "outputs": [
    {
     "name": "stdout",
     "output_type": "stream",
     "text": [
      "[[2.01527346e-08 3.84228862e-08 2.51713482e-06 ... 9.99957085e-01\n",
      "  3.46368552e-08 6.61732770e-07]\n",
      " [9.37091862e-11 2.78860571e-05 9.99968648e-01 ... 8.32493883e-12\n",
      "  2.03033217e-08 4.90565227e-12]\n",
      " [3.51609089e-07 9.99819338e-01 4.40275971e-06 ... 4.51495252e-05\n",
      "  1.07354084e-04 1.43907442e-07]\n",
      " ...\n",
      " [4.96198534e-11 3.98949425e-07 1.95457837e-08 ... 6.32165938e-06\n",
      "  5.76378284e-07 6.84212000e-06]\n",
      " [2.68227240e-07 1.12182770e-05 2.89691848e-09 ... 5.46437775e-07\n",
      "  4.26187441e-02 1.38827225e-08]\n",
      " [4.40336763e-08 1.49103236e-08 2.76159909e-07 ... 1.85149084e-11\n",
      "  4.97151511e-08 6.62873359e-12]]\n"
     ]
    }
   ],
   "source": [
    "#predictions\n",
    "predictions=new_model.predict([x_test])\n",
    "print(predictions)"
   ]
  },
  {
   "cell_type": "code",
   "execution_count": 48,
   "id": "93774ac2",
   "metadata": {},
   "outputs": [],
   "source": [
    "#how data looks like\n",
    "#import matplotlib.pyplot as plt\n",
    "#plt.imshow(x_train[0])\n",
    "#print(x_train[0])"
   ]
  },
  {
   "cell_type": "code",
   "execution_count": 57,
   "id": "1f1814ce",
   "metadata": {},
   "outputs": [
    {
     "name": "stdout",
     "output_type": "stream",
     "text": [
      "7\n"
     ]
    },
    {
     "data": {
      "image/png": "[encoded data removed]",
      "text/plain": [
       "<Figure size 432x288 with 1 Axes>"
      ]
     },
     "metadata": {
      "needs_background": "light"
     },
     "output_type": "display_data"
    }
   ],
   "source": [
    "#now lets see first predicted value \n",
    "import numpy as np\n",
    "print(np.argmax(predictions[0]))\n",
    "plt.imshow(x_test[0])\n",
    "plt.show()"
   ]
  },
  {
   "cell_type": "code",
   "execution_count": null,
   "id": "1011948f",
   "metadata": {},
   "outputs": [],
   "source": []
  },
  {
   "cell_type": "code",
   "execution_count": null,
   "id": "6f01adcc",
   "metadata": {},
   "outputs": [],
   "source": []
  }
 ],
 "metadata": {
  "kernelspec": {
   "display_name": "Python 3",
   "language": "python",
   "name": "python3"
  },
  "language_info": {
   "codemirror_mode": {
    "name": "ipython",
    "version": 3
   },
   "file_extension": ".py",
   "mimetype": "text/x-python",
   "name": "python",
   "nbconvert_exporter": "python",
   "pygments_lexer": "ipython3",
   "version": "3.8.8"
  }
 },
 "nbformat": 4,
 "nbformat_minor": 5
}
