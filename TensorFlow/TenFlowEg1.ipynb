{
 "cells": [
  {
   "cell_type": "code",
   "execution_count": 21,
   "id": "89d8fcaf",
   "metadata": {
    "scrolled": false
   },
   "outputs": [
    {
     "data": {
      "text/plain": [
       "1518    0\n",
       "6414    1\n",
       "5962    0\n",
       "5527    0\n",
       "998     1\n",
       "Name: Churn, dtype: int64"
      ]
     },
     "execution_count": 21,
     "metadata": {},
     "output_type": "execute_result"
    }
   ],
   "source": [
    "import pandas as pd\n",
    "from sklearn.model_selection import train_test_split\n",
    "from tensorflow.keras.models import Sequential, load_model\n",
    "from tensorflow.keras.layers import Dense\n",
    "from sklearn.metrics import accuracy_score\n",
    "from sklearn.metrics import mean_squared_error\n",
    "\n",
    "\n",
    "df = pd.read_csv('Churn.csv')\n",
    "X = pd.get_dummies(df.drop(['Churn', 'Customer ID'], axis=1))\n",
    "y = df['Churn'].apply(lambda x: 1 if x=='Yes' else 0)\n",
    "X_train, X_test, y_train, y_test = train_test_split(X, y, test_size=.2)\n",
    "y_train.head()"
   ]
  },
  {
   "cell_type": "code",
   "execution_count": 22,
   "id": "fad93800",
   "metadata": {},
   "outputs": [
    {
     "name": "stdout",
     "output_type": "stream",
     "text": [
      "Epoch 1/20\n",
      "177/177 [==============================] - 1s 3ms/step - loss: 4015.1387 - accuracy: 0.7237\n",
      "Epoch 2/20\n",
      "177/177 [==============================] - 0s 3ms/step - loss: 0.5836 - accuracy: 0.7322\n",
      "Epoch 3/20\n",
      "177/177 [==============================] - 0s 3ms/step - loss: 0.5835 - accuracy: 0.7322\n",
      "Epoch 4/20\n",
      "177/177 [==============================] - 0s 3ms/step - loss: 0.5831 - accuracy: 0.7322\n",
      "Epoch 5/20\n",
      "177/177 [==============================] - 0s 3ms/step - loss: 0.5829 - accuracy: 0.7322\n",
      "Epoch 6/20\n",
      "177/177 [==============================] - 0s 3ms/step - loss: 0.5829 - accuracy: 0.7322\n",
      "Epoch 7/20\n",
      "177/177 [==============================] - 0s 3ms/step - loss: 0.5835 - accuracy: 0.7322\n",
      "Epoch 8/20\n",
      "177/177 [==============================] - 0s 2ms/step - loss: 0.5828 - accuracy: 0.7322\n",
      "Epoch 9/20\n",
      "177/177 [==============================] - 0s 3ms/step - loss: 0.5842 - accuracy: 0.7322\n",
      "Epoch 10/20\n",
      "177/177 [==============================] - 0s 3ms/step - loss: 0.5828 - accuracy: 0.7322\n",
      "Epoch 11/20\n",
      "177/177 [==============================] - 0s 3ms/step - loss: 0.5831 - accuracy: 0.7322\n",
      "Epoch 12/20\n",
      "177/177 [==============================] - 0s 3ms/step - loss: 0.5835 - accuracy: 0.7322\n",
      "Epoch 13/20\n",
      "177/177 [==============================] - 1s 3ms/step - loss: 0.5832 - accuracy: 0.7322\n",
      "Epoch 14/20\n",
      "177/177 [==============================] - 0s 3ms/step - loss: 0.5829 - accuracy: 0.7322\n",
      "Epoch 15/20\n",
      "177/177 [==============================] - 0s 3ms/step - loss: 0.5828 - accuracy: 0.7322\n",
      "Epoch 16/20\n",
      "177/177 [==============================] - 0s 3ms/step - loss: 0.5838 - accuracy: 0.7322\n",
      "Epoch 17/20\n",
      "177/177 [==============================] - 1s 3ms/step - loss: 0.5832 - accuracy: 0.7322\n",
      "Epoch 18/20\n",
      "177/177 [==============================] - 0s 3ms/step - loss: 0.5834 - accuracy: 0.7322\n",
      "Epoch 19/20\n",
      "177/177 [==============================] - 0s 3ms/step - loss: 0.5820 - accuracy: 0.7322\n",
      "Epoch 20/20\n",
      "177/177 [==============================] - 0s 3ms/step - loss: 0.5825 - accuracy: 0.7322\n"
     ]
    },
    {
     "data": {
      "text/plain": [
       "<keras.callbacks.History at 0x1ebb562ea00>"
      ]
     },
     "execution_count": 22,
     "metadata": {},
     "output_type": "execute_result"
    }
   ],
   "source": [
    "model = Sequential()\n",
    "model.add(Dense(units=32, activation='relu', input_dim=len(X_train.columns)))\n",
    "model.add(Dense(units=64, activation='relu'))\n",
    "model.add(Dense(units=1, activation='sigmoid'))\n",
    "model.compile(loss='binary_crossentropy', optimizer='sgd', metrics='accuracy')\n",
    "\n",
    "model.fit(X_train, y_train, epochs=20, batch_size=32)"
   ]
  },
  {
   "cell_type": "code",
   "execution_count": 24,
   "id": "b473b033",
   "metadata": {},
   "outputs": [
    {
     "data": {
      "text/plain": [
       "0.7444996451383961"
      ]
     },
     "execution_count": 24,
     "metadata": {},
     "output_type": "execute_result"
    }
   ],
   "source": [
    "y_hat = model.predict(X_test)\n",
    "y_hat = [0 if val < 0.5 else 1 for val in y_hat]\n",
    "accuracy_score(y_test, y_hat)\n",
    "#model.save('tfmodel')\n",
    "#del model\n",
    "#model = load_model('tfmodel')"
   ]
  },
  {
   "cell_type": "code",
   "execution_count": 25,
   "id": "fd87f7cc",
   "metadata": {},
   "outputs": [
    {
     "name": "stdout",
     "output_type": "stream",
     "text": [
      "0.5054704292652578\n"
     ]
    }
   ],
   "source": [
    "import math\n",
    "testscore=math.sqrt(mean_squared_error(y_test, y_hat))\n",
    "print(testscore)\n"
   ]
  }
 ],
 "metadata": {
  "kernelspec": {
   "display_name": "Python 3",
   "language": "python",
   "name": "python3"
  },
  "language_info": {
   "codemirror_mode": {
    "name": "ipython",
    "version": 3
   },
   "file_extension": ".py",
   "mimetype": "text/x-python",
   "name": "python",
   "nbconvert_exporter": "python",
   "pygments_lexer": "ipython3",
   "version": "3.8.8"
  }
 },
 "nbformat": 4,
 "nbformat_minor": 5
}
