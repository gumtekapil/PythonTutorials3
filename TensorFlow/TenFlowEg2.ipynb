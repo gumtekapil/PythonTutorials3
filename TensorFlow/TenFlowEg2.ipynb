{
 "cells": [
  {
   "cell_type": "code",
   "execution_count": 4,
   "id": "e77f3504",
   "metadata": {},
   "outputs": [
    {
     "name": "stdout",
     "output_type": "stream",
     "text": [
      "your tensor flow version is: 2.6.0\n"
     ]
    }
   ],
   "source": [
    "import tensorflow as tf\n",
    "print( ('your tensor flow version is: {0}').format(tf.__version__) )"
   ]
  },
  {
   "cell_type": "code",
   "execution_count": 17,
   "id": "4697a499",
   "metadata": {
    "scrolled": true
   },
   "outputs": [
    {
     "name": "stdout",
     "output_type": "stream",
     "text": [
      "<tf.Variable 'Variable:0' shape=(2, 2) dtype=int32, numpy=\n",
      "array([[4, 3],\n",
      "       [6, 1]])>\n",
      "tf.Tensor(\n",
      "[[7 8]\n",
      " [4 5]], shape=(2, 2), dtype=int32)\n"
     ]
    },
    {
     "data": {
      "text/plain": [
       "<tf.Tensor: shape=(2, 4), dtype=int32, numpy=\n",
       "array([[4, 3, 7, 8],\n",
       "       [6, 1, 4, 5]])>"
      ]
     },
     "execution_count": 17,
     "metadata": {},
     "output_type": "execute_result"
    }
   ],
   "source": [
    "A=tf.Variable([[4,3],[6,1]]);print(A)\n",
    "B=tf.constant([[7,8],[4,5]]);print(B)\n",
    "#concatenate column wise\n",
    "AB_concatenated=tf.concat(values=[A,B], axis=1)\n",
    "AB_concatenated"
   ]
  },
  {
   "cell_type": "code",
   "execution_count": 18,
   "id": "a1237118",
   "metadata": {},
   "outputs": [
    {
     "data": {
      "text/plain": [
       "<tf.Tensor: shape=(4, 2), dtype=int32, numpy=\n",
       "array([[4, 3],\n",
       "       [6, 1],\n",
       "       [7, 8],\n",
       "       [4, 5]])>"
      ]
     },
     "execution_count": 18,
     "metadata": {},
     "output_type": "execute_result"
    }
   ],
   "source": [
    "#concatenate rows wise\n",
    "AB_concatenated=tf.concat(values=[A,B], axis=0)\n",
    "AB_concatenated"
   ]
  },
  {
   "cell_type": "code",
   "execution_count": 22,
   "id": "c9512061",
   "metadata": {},
   "outputs": [
    {
     "data": {
      "text/plain": [
       "<tf.Tensor: shape=(3, 4), dtype=float32, numpy=\n",
       "array([[1., 1., 1., 1.],\n",
       "       [1., 1., 1., 1.],\n",
       "       [1., 1., 1., 1.]], dtype=float32)>"
      ]
     },
     "execution_count": 22,
     "metadata": {},
     "output_type": "execute_result"
    }
   ],
   "source": [
    "tensor=tf.ones(shape=[3,4],dtype=tf.float32)\n",
    "tensor"
   ]
  },
  {
   "cell_type": "code",
   "execution_count": 26,
   "id": "035f9e59",
   "metadata": {},
   "outputs": [
    {
     "data": {
      "text/plain": [
       "<tf.Tensor: shape=(4, 3), dtype=float32, numpy=\n",
       "array([[1., 1., 1.],\n",
       "       [1., 1., 1.],\n",
       "       [1., 1., 1.],\n",
       "       [1., 1., 1.]], dtype=float32)>"
      ]
     },
     "execution_count": 26,
     "metadata": {},
     "output_type": "execute_result"
    }
   ],
   "source": [
    "reshaped_tensor=tf.reshape(tensor=tensor,shape=[4,3])\n",
    "reshaped_tensor"
   ]
  },
  {
   "cell_type": "code",
   "execution_count": 34,
   "id": "9f07a126",
   "metadata": {},
   "outputs": [
    {
     "data": {
      "text/plain": [
       "<tf.Tensor: shape=(2, 5), dtype=float32, numpy=\n",
       "array([[0.66648555, 0.5760162 , 0.80646515, 0.27309966, 0.98448896],\n",
       "       [0.03935325, 0.8176042 , 0.5621226 , 0.910053  , 0.14898753]],\n",
       "      dtype=float32)>"
      ]
     },
     "execution_count": 34,
     "metadata": {},
     "output_type": "execute_result"
    }
   ],
   "source": [
    "import numpy as np\n",
    "tensorR=tf.random.uniform(shape=[2,5],dtype=tf.float32)\n",
    "tensorR"
   ]
  },
  {
   "cell_type": "code",
   "execution_count": 41,
   "id": "84686c42",
   "metadata": {},
   "outputs": [
    {
     "name": "stdout",
     "output_type": "stream",
     "text": [
      "tf.Tensor(\n",
      "[[4.6 4.2]\n",
      " [7.5 3.6]\n",
      " [2.7 9.4]\n",
      " [6.7 8.3]], shape=(4, 2), dtype=float32) tf.Tensor(\n",
      "[[4 4]\n",
      " [7 3]\n",
      " [2 9]\n",
      " [6 8]], shape=(4, 2), dtype=int32) tf.Tensor(\n",
      "[[4 7 2 6]\n",
      " [4 3 9 8]], shape=(2, 4), dtype=int32)\n"
     ]
    }
   ],
   "source": [
    "tensor=tf.constant([[4.6,4.2],\n",
    "             [7.5,3.6],\n",
    "             [2.7,9.4],\n",
    "             [6.7,8.3],\n",
    "            ], dtype=tf.float32)\n",
    "tensor_as_int=tf.cast(tensor,dtype=tf.int32)\n",
    "a=tf.transpose(tensor_as_int)\n",
    "print(tensor,tensor_as_int,a)"
   ]
  },
  {
   "cell_type": "code",
   "execution_count": 47,
   "id": "122301dd",
   "metadata": {},
   "outputs": [
    {
     "name": "stdout",
     "output_type": "stream",
     "text": [
      "2\n",
      "2\n",
      "tf.Tensor(\n",
      "[[1. 0. 0. 0.]\n",
      " [0. 1. 0. 0.]\n",
      " [0. 0. 1. 0.]\n",
      " [0. 0. 0. 1.]], shape=(4, 4), dtype=float32)\n"
     ]
    }
   ],
   "source": [
    "A=tf.constant([[5,8],\n",
    "               [3,9]])\n",
    "V=tf.constant([[4],\n",
    "               [2]])\n",
    "AV=tf.matmul(A,V)\n",
    "Ac=tf.multiply(A,V)\n",
    "r,c=A.shape\n",
    "print(r);print(c)\n",
    "AI=tf.eye(num_rows=4,num_columns=4)\n",
    "print(AI)"
   ]
  },
  {
   "cell_type": "code",
   "execution_count": null,
   "id": "5f676d71",
   "metadata": {},
   "outputs": [],
   "source": []
  }
 ],
 "metadata": {
  "kernelspec": {
   "display_name": "Python 3",
   "language": "python",
   "name": "python3"
  },
  "language_info": {
   "codemirror_mode": {
    "name": "ipython",
    "version": 3
   },
   "file_extension": ".py",
   "mimetype": "text/x-python",
   "name": "python",
   "nbconvert_exporter": "python",
   "pygments_lexer": "ipython3",
   "version": "3.8.8"
  }
 },
 "nbformat": 4,
 "nbformat_minor": 5
}
